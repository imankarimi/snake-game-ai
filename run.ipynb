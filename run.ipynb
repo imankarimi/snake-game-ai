{
 "cells": [
  {
   "cell_type": "code",
   "id": "initial_id",
   "metadata": {
    "collapsed": true
   },
   "source": [
    "from utils import plot\n",
    "from environment import SnakeGameAI\n",
    "from agent import Agent\n",
    "\n",
    "plot_scores = []\n",
    "plot_mean_scores = []\n",
    "total_score = 0\n",
    "record = 0\n",
    "agent = Agent()\n",
    "game = SnakeGameAI()\n",
    "\n",
    "while True:\n",
    "    # Get old game state\n",
    "    state_old = agent.get_state(game)\n",
    "\n",
    "    # Get an action from the agent\n",
    "    final_move = agent.get_action(state_old)\n",
    "\n",
    "    # Perform the action and get the new state and reward\n",
    "    reward, done, score = game.play_step(final_move)\n",
    "    state_new = agent.get_state(game)\n",
    "\n",
    "    # Train the agent with short-term memory (single step)\n",
    "    agent.train_short_memory(state_old, final_move, reward, state_new, done)\n",
    "\n",
    "    # Store the experience in memory\n",
    "    agent.remember(state_old, final_move, reward, state_new, done)\n",
    "\n",
    "    if done:  # If game over, train the long memory, and plot the result\n",
    "        # Reset the game and train on long-term memory (batch training)\n",
    "        game.reset()\n",
    "        agent.n_games += 1\n",
    "        agent.train_long_memory()\n",
    "\n",
    "        # Save the model if a new high score is achieved\n",
    "        if score > record:\n",
    "            record = score\n",
    "            agent.model.save()\n",
    "\n",
    "        print('Game:', agent.n_games, 'Score:', score, 'Record:', record)\n",
    "\n",
    "        # Update the score plots\n",
    "        plot_scores.append(score)\n",
    "        total_score += score\n",
    "        mean_score = total_score / agent.n_games\n",
    "        plot_mean_scores.append(mean_score)\n",
    "        plot(plot_scores, plot_mean_scores)"
   ],
   "outputs": [],
   "execution_count": null
  }
 ],
 "metadata": {
  "kernelspec": {
   "display_name": "Python 3",
   "language": "python",
   "name": "python3"
  },
  "language_info": {
   "codemirror_mode": {
    "name": "ipython",
    "version": 2
   },
   "file_extension": ".py",
   "mimetype": "text/x-python",
   "name": "python",
   "nbconvert_exporter": "python",
   "pygments_lexer": "ipython2",
   "version": "2.7.6"
  }
 },
 "nbformat": 4,
 "nbformat_minor": 5
}
